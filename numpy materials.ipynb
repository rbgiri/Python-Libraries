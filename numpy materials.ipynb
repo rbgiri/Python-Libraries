{
 "cells": [
  {
   "cell_type": "code",
   "execution_count": 1,
   "id": "0416219a",
   "metadata": {},
   "outputs": [],
   "source": [
    "import numpy as np\n"
   ]
  },
  {
   "cell_type": "markdown",
   "id": "708a2def",
   "metadata": {},
   "source": [
    "1.Converting a List to Array"
   ]
  },
  {
   "cell_type": "code",
   "execution_count": 2,
   "id": "201e0c71",
   "metadata": {},
   "outputs": [],
   "source": [
    "lst=[1,2,3,4]"
   ]
  },
  {
   "cell_type": "code",
   "execution_count": 3,
   "id": "b1723338",
   "metadata": {},
   "outputs": [
    {
     "name": "stdout",
     "output_type": "stream",
     "text": [
      "[1, 2, 3, 4]\n"
     ]
    }
   ],
   "source": [
    "print(lst)"
   ]
  },
  {
   "cell_type": "code",
   "execution_count": 4,
   "id": "89b3e9bf",
   "metadata": {},
   "outputs": [
    {
     "name": "stdout",
     "output_type": "stream",
     "text": [
      "<class 'list'>\n"
     ]
    }
   ],
   "source": [
    "print(type(lst))"
   ]
  },
  {
   "cell_type": "code",
   "execution_count": 5,
   "id": "0823c53d",
   "metadata": {},
   "outputs": [],
   "source": [
    "arr=np.array(lst)"
   ]
  },
  {
   "cell_type": "code",
   "execution_count": 6,
   "id": "5fd312c7",
   "metadata": {},
   "outputs": [
    {
     "name": "stdout",
     "output_type": "stream",
     "text": [
      "[1 2 3 4]\n"
     ]
    }
   ],
   "source": [
    "print(arr)"
   ]
  },
  {
   "cell_type": "code",
   "execution_count": 7,
   "id": "9ef55ed1",
   "metadata": {},
   "outputs": [
    {
     "name": "stdout",
     "output_type": "stream",
     "text": [
      "<class 'numpy.ndarray'>\n"
     ]
    }
   ],
   "source": [
    "print(type(arr))"
   ]
  },
  {
   "cell_type": "code",
   "execution_count": 8,
   "id": "5b0a42f5",
   "metadata": {},
   "outputs": [],
   "source": [
    "arr=np.array(lst,ndmin=1)"
   ]
  },
  {
   "cell_type": "code",
   "execution_count": 9,
   "id": "07e8c7a6",
   "metadata": {},
   "outputs": [
    {
     "name": "stdout",
     "output_type": "stream",
     "text": [
      "[1 2 3 4]\n"
     ]
    }
   ],
   "source": [
    "print(arr)"
   ]
  },
  {
   "cell_type": "code",
   "execution_count": 10,
   "id": "c43f5915",
   "metadata": {},
   "outputs": [],
   "source": [
    "arr=np.array(lst,ndmin=5)"
   ]
  },
  {
   "cell_type": "code",
   "execution_count": 11,
   "id": "7e62df62",
   "metadata": {},
   "outputs": [
    {
     "name": "stdout",
     "output_type": "stream",
     "text": [
      "[[[[[1 2 3 4]]]]]\n"
     ]
    }
   ],
   "source": [
    "print(arr)"
   ]
  },
  {
   "cell_type": "code",
   "execution_count": 12,
   "id": "486f70da",
   "metadata": {},
   "outputs": [
    {
     "data": {
      "text/plain": [
       "array([1, 2, 3, 4, 5, 6, 7, 8, 9])"
      ]
     },
     "execution_count": 12,
     "metadata": {},
     "output_type": "execute_result"
    }
   ],
   "source": [
    "np.arange(1,10)"
   ]
  },
  {
   "cell_type": "code",
   "execution_count": 13,
   "id": "9d08e39a",
   "metadata": {},
   "outputs": [
    {
     "name": "stdout",
     "output_type": "stream",
     "text": [
      "Total  : 16\n",
      "Rows   : 4\n",
      "Colmn  : 4\n"
     ]
    }
   ],
   "source": [
    "arr=np.array([[1,2,3,4,],[4,5,6,0],[1,5,3,2],[2,5,7,0]])\n",
    "print('Total  :',arr.size)\n",
    "print('Rows   :',np.size(arr,0))\n",
    "print('Colmn  :',np.size(arr,1))"
   ]
  },
  {
   "cell_type": "code",
   "execution_count": 14,
   "id": "f2ced51f",
   "metadata": {},
   "outputs": [
    {
     "name": "stdout",
     "output_type": "stream",
     "text": [
      "4 4\n",
      "(4, 4)\n"
     ]
    }
   ],
   "source": [
    "arr=np.array([[1,2,3,4,],[4,5,6,0],[1,5,3,2],[2,5,7,0]])\n",
    "print((np.size(arr,0)),(np.size(arr,1)))\n",
    "print(arr.shape)"
   ]
  },
  {
   "cell_type": "code",
   "execution_count": 15,
   "id": "29cd5b1a",
   "metadata": {},
   "outputs": [],
   "source": [
    "arr1=np.array([1,2,3,4,5,0,-1])\n",
    "arr2=np.array([4.5,5.8,6.0,0,1,5,3,2])"
   ]
  },
  {
   "cell_type": "code",
   "execution_count": 16,
   "id": "92ad4b04",
   "metadata": {},
   "outputs": [
    {
     "name": "stdout",
     "output_type": "stream",
     "text": [
      "[ 1  2  3  4  5  0 -1]\n"
     ]
    }
   ],
   "source": [
    "print(arr1)"
   ]
  },
  {
   "cell_type": "code",
   "execution_count": 17,
   "id": "e0cb7119",
   "metadata": {},
   "outputs": [
    {
     "name": "stdout",
     "output_type": "stream",
     "text": [
      "int32\n",
      "float64\n"
     ]
    }
   ],
   "source": [
    "print(arr1.dtype)\n",
    "print(arr2.dtype)\n"
   ]
  },
  {
   "cell_type": "code",
   "execution_count": 18,
   "id": "0bc49517",
   "metadata": {},
   "outputs": [
    {
     "name": "stdout",
     "output_type": "stream",
     "text": [
      "1\n",
      "1\n",
      "[[[[ 1  2  3  4  5  0 -1]]]]\n"
     ]
    }
   ],
   "source": [
    "arr1=np.array([1,2,3,4,5,0,-1])\n",
    "arr2=np.array([4.5,5.8,6.0,0,1,5,3,2])\n",
    "print(arr1.ndim)\n",
    "print(arr2.ndim)\n",
    "arr3=np.array(arr1,ndmin=4)\n",
    "print(arr3)"
   ]
  },
  {
   "cell_type": "code",
   "execution_count": 19,
   "id": "b41d6921",
   "metadata": {},
   "outputs": [
    {
     "name": "stdout",
     "output_type": "stream",
     "text": [
      "[[0 0 0 0]\n",
      " [0 0 0 0]\n",
      " [0 0 0 0]]\n"
     ]
    }
   ],
   "source": [
    "arr =  np.zeros(shape=(3,4),dtype=int)\n",
    "print(arr)"
   ]
  },
  {
   "cell_type": "code",
   "execution_count": 20,
   "id": "fcba693f",
   "metadata": {},
   "outputs": [
    {
     "name": "stdout",
     "output_type": "stream",
     "text": [
      "[[1 1 1 1]\n",
      " [1 1 1 1]\n",
      " [1 1 1 1]]\n"
     ]
    }
   ],
   "source": [
    "arr =  np.ones(shape=(3,4),dtype=int)\n",
    "print(arr)"
   ]
  },
  {
   "cell_type": "code",
   "execution_count": 21,
   "id": "5a6a6e7a",
   "metadata": {},
   "outputs": [
    {
     "data": {
      "text/plain": [
       "array([[1, 0, 0, 0, 0, 0, 0, 0, 0, 0, 0, 0, 0, 0, 0, 0, 0, 0, 0, 0],\n",
       "       [0, 1, 0, 0, 0, 0, 0, 0, 0, 0, 0, 0, 0, 0, 0, 0, 0, 0, 0, 0],\n",
       "       [0, 0, 1, 0, 0, 0, 0, 0, 0, 0, 0, 0, 0, 0, 0, 0, 0, 0, 0, 0],\n",
       "       [0, 0, 0, 1, 0, 0, 0, 0, 0, 0, 0, 0, 0, 0, 0, 0, 0, 0, 0, 0],\n",
       "       [0, 0, 0, 0, 1, 0, 0, 0, 0, 0, 0, 0, 0, 0, 0, 0, 0, 0, 0, 0],\n",
       "       [0, 0, 0, 0, 0, 1, 0, 0, 0, 0, 0, 0, 0, 0, 0, 0, 0, 0, 0, 0],\n",
       "       [0, 0, 0, 0, 0, 0, 1, 0, 0, 0, 0, 0, 0, 0, 0, 0, 0, 0, 0, 0],\n",
       "       [0, 0, 0, 0, 0, 0, 0, 1, 0, 0, 0, 0, 0, 0, 0, 0, 0, 0, 0, 0],\n",
       "       [0, 0, 0, 0, 0, 0, 0, 0, 1, 0, 0, 0, 0, 0, 0, 0, 0, 0, 0, 0],\n",
       "       [0, 0, 0, 0, 0, 0, 0, 0, 0, 1, 0, 0, 0, 0, 0, 0, 0, 0, 0, 0],\n",
       "       [0, 0, 0, 0, 0, 0, 0, 0, 0, 0, 1, 0, 0, 0, 0, 0, 0, 0, 0, 0],\n",
       "       [0, 0, 0, 0, 0, 0, 0, 0, 0, 0, 0, 1, 0, 0, 0, 0, 0, 0, 0, 0],\n",
       "       [0, 0, 0, 0, 0, 0, 0, 0, 0, 0, 0, 0, 1, 0, 0, 0, 0, 0, 0, 0],\n",
       "       [0, 0, 0, 0, 0, 0, 0, 0, 0, 0, 0, 0, 0, 1, 0, 0, 0, 0, 0, 0],\n",
       "       [0, 0, 0, 0, 0, 0, 0, 0, 0, 0, 0, 0, 0, 0, 1, 0, 0, 0, 0, 0],\n",
       "       [0, 0, 0, 0, 0, 0, 0, 0, 0, 0, 0, 0, 0, 0, 0, 1, 0, 0, 0, 0],\n",
       "       [0, 0, 0, 0, 0, 0, 0, 0, 0, 0, 0, 0, 0, 0, 0, 0, 1, 0, 0, 0],\n",
       "       [0, 0, 0, 0, 0, 0, 0, 0, 0, 0, 0, 0, 0, 0, 0, 0, 0, 1, 0, 0],\n",
       "       [0, 0, 0, 0, 0, 0, 0, 0, 0, 0, 0, 0, 0, 0, 0, 0, 0, 0, 1, 0],\n",
       "       [0, 0, 0, 0, 0, 0, 0, 0, 0, 0, 0, 0, 0, 0, 0, 0, 0, 0, 0, 1]])"
      ]
     },
     "execution_count": 21,
     "metadata": {},
     "output_type": "execute_result"
    }
   ],
   "source": [
    "np.eye(20,dtype=int)\n"
   ]
  },
  {
   "cell_type": "code",
   "execution_count": 22,
   "id": "4853a661",
   "metadata": {},
   "outputs": [
    {
     "data": {
      "text/plain": [
       "array([[0.73296606, 0.63329856, 0.53284194, 0.51745033],\n",
       "       [0.96889467, 0.56175387, 0.25654781, 0.96714692],\n",
       "       [0.68983133, 0.95910005, 0.57765809, 0.94304986]])"
      ]
     },
     "execution_count": 22,
     "metadata": {},
     "output_type": "execute_result"
    }
   ],
   "source": [
    "np.random.rand(3,4)"
   ]
  },
  {
   "cell_type": "code",
   "execution_count": 23,
   "id": "94d6e337",
   "metadata": {},
   "outputs": [
    {
     "data": {
      "text/plain": [
       "array([ 66, 169,  16, 177,  18,  78, 131,  24, 114, 153, 194,  95, 158,\n",
       "       167,  22, 163,  42,  64,  68,  94])"
      ]
     },
     "execution_count": 23,
     "metadata": {},
     "output_type": "execute_result"
    }
   ],
   "source": [
    "np.random.randint(low=0,high=199,size=20)\n"
   ]
  },
  {
   "cell_type": "code",
   "execution_count": 24,
   "id": "447e8b99",
   "metadata": {},
   "outputs": [
    {
     "data": {
      "text/plain": [
       "array([-0.56285545,  0.75396377, -0.99270059, -0.56718703,  1.45607621,\n",
       "        0.17793799, -0.60539891,  0.75660537,  1.21562648,  2.23658014,\n",
       "       -1.44942579, -0.03834217,  1.86787625, -0.60311354,  2.30329218,\n",
       "       -0.05829214, -0.11835043,  0.54393492,  0.43928745,  1.27692062,\n",
       "       -2.02268359, -0.71278258,  0.7472619 ,  0.60032029, -0.0411386 ,\n",
       "        0.16435364,  0.34753224,  0.25933281, -1.3427321 ,  0.55947436,\n",
       "        0.08460835, -0.6108283 ,  1.79545474, -0.58299948,  0.25549792,\n",
       "       -0.75731308, -0.09622586, -0.09280306, -1.02162958, -1.00842651,\n",
       "       -0.73206845,  1.60032272,  0.35620071, -0.63974331, -1.16182032,\n",
       "        0.98919985, -0.26401725,  1.63919646, -1.46325542,  0.37266593,\n",
       "        1.32024   , -0.04973351,  0.12740828,  0.90788498,  2.34405083,\n",
       "       -0.71332684,  2.33097516, -1.05762391, -1.15262965,  0.42201178,\n",
       "       -1.39603417, -1.87714375,  0.87022512, -0.55847482, -0.94641897,\n",
       "        0.13698152, -1.18613167,  0.12335712,  0.81118253, -0.18238566,\n",
       "        0.77385027, -1.04585299,  0.50013282, -0.62669201, -0.98351634,\n",
       "        1.62270427,  1.72948245, -0.18026352, -0.62141686,  0.58872895,\n",
       "        0.36800082,  1.1815656 ,  0.73869906, -2.48599939, -1.29465428,\n",
       "        0.23568627, -0.02643163,  0.45129131,  1.41504323,  0.61516908])"
      ]
     },
     "execution_count": 24,
     "metadata": {},
     "output_type": "execute_result"
    }
   ],
   "source": [
    "np.random.randn(90)"
   ]
  },
  {
   "cell_type": "code",
   "execution_count": 25,
   "id": "eb4510df",
   "metadata": {},
   "outputs": [
    {
     "data": {
      "text/plain": [
       "(array([ 1.,  0.,  2.,  0.,  2.,  1.,  0.,  1.,  0.,  2.,  1.,  4.,  1.,\n",
       "         1.,  4.,  5.,  5.,  3.,  3.,  3.,  4.,  7.,  5.,  4.,  4.,  7.,\n",
       "         9., 12.,  9., 19., 11., 13., 15., 13., 16., 23., 14., 18., 16.,\n",
       "        17., 23., 24., 17., 19., 25., 26., 27., 30., 24., 27., 21., 21.,\n",
       "        34., 23., 15., 16., 19., 25., 34., 21., 22., 20., 15., 19.,  6.,\n",
       "        16., 13., 18., 10.,  8., 12., 11.,  6.,  6.,  7.,  8.,  5.,  5.,\n",
       "         6.,  7.,  2.,  3.,  2.,  4.,  3.,  4.,  4.,  0.,  0.,  2.,  3.,\n",
       "         1.,  1.,  0.,  1.,  0.,  1.,  2.,  0.,  1.]),\n",
       " array([-2.83261961e+00, -2.77597716e+00, -2.71933472e+00, -2.66269228e+00,\n",
       "        -2.60604983e+00, -2.54940739e+00, -2.49276494e+00, -2.43612250e+00,\n",
       "        -2.37948005e+00, -2.32283761e+00, -2.26619517e+00, -2.20955272e+00,\n",
       "        -2.15291028e+00, -2.09626783e+00, -2.03962539e+00, -1.98298294e+00,\n",
       "        -1.92634050e+00, -1.86969806e+00, -1.81305561e+00, -1.75641317e+00,\n",
       "        -1.69977072e+00, -1.64312828e+00, -1.58648583e+00, -1.52984339e+00,\n",
       "        -1.47320094e+00, -1.41655850e+00, -1.35991606e+00, -1.30327361e+00,\n",
       "        -1.24663117e+00, -1.18998872e+00, -1.13334628e+00, -1.07670383e+00,\n",
       "        -1.02006139e+00, -9.63418946e-01, -9.06776501e-01, -8.50134057e-01,\n",
       "        -7.93491613e-01, -7.36849169e-01, -6.80206724e-01, -6.23564280e-01,\n",
       "        -5.66921836e-01, -5.10279391e-01, -4.53636947e-01, -3.96994503e-01,\n",
       "        -3.40352058e-01, -2.83709614e-01, -2.27067170e-01, -1.70424725e-01,\n",
       "        -1.13782281e-01, -5.71398366e-02, -4.97392272e-04,  5.61450521e-02,\n",
       "         1.12787496e-01,  1.69429941e-01,  2.26072385e-01,  2.82714829e-01,\n",
       "         3.39357274e-01,  3.95999718e-01,  4.52642162e-01,  5.09284607e-01,\n",
       "         5.65927051e-01,  6.22569495e-01,  6.79211940e-01,  7.35854384e-01,\n",
       "         7.92496828e-01,  8.49139273e-01,  9.05781717e-01,  9.62424161e-01,\n",
       "         1.01906661e+00,  1.07570905e+00,  1.13235149e+00,  1.18899394e+00,\n",
       "         1.24563638e+00,  1.30227883e+00,  1.35892127e+00,  1.41556372e+00,\n",
       "         1.47220616e+00,  1.52884860e+00,  1.58549105e+00,  1.64213349e+00,\n",
       "         1.69877594e+00,  1.75541838e+00,  1.81206083e+00,  1.86870327e+00,\n",
       "         1.92534571e+00,  1.98198816e+00,  2.03863060e+00,  2.09527305e+00,\n",
       "         2.15191549e+00,  2.20855794e+00,  2.26520038e+00,  2.32184283e+00,\n",
       "         2.37848527e+00,  2.43512771e+00,  2.49177016e+00,  2.54841260e+00,\n",
       "         2.60505505e+00,  2.66169749e+00,  2.71833994e+00,  2.77498238e+00,\n",
       "         2.83162482e+00]),\n",
       " <BarContainer object of 100 artists>)"
      ]
     },
     "execution_count": 25,
     "metadata": {},
     "output_type": "execute_result"
    },
    {
     "data": {
      "image/png": "[encoded data removed]",
      "text/plain": [
       "<Figure size 432x288 with 1 Axes>"
      ]
     },
     "metadata": {
      "needs_background": "light"
     },
     "output_type": "display_data"
    }
   ],
   "source": [
    "import matplotlib.pyplot as plt\n",
    "%matplotlib inline\n",
    "plt.hist(np.random.randn(1000),bins=100)"
   ]
  },
  {
   "cell_type": "code",
   "execution_count": 26,
   "id": "bce2c82a",
   "metadata": {},
   "outputs": [
    {
     "name": "stdout",
     "output_type": "stream",
     "text": [
      "(3, 4)\n",
      "[[14  8 11  3]\n",
      " [ 3  4 11 11]\n",
      " [12  2  1 12]]\n",
      "(4, 3)\n",
      "[[14  8 11]\n",
      " [ 3  3  4]\n",
      " [11 11 12]\n",
      " [ 2  1 12]]\n",
      "(6, 2)\n",
      "[[14  8]\n",
      " [11  3]\n",
      " [ 3  4]\n",
      " [11 11]\n",
      " [12  2]\n",
      " [ 1 12]]\n",
      "--------------------------------------------------------------------------------------------------------------------\n",
      "(12,)\n",
      "[10 10  1 12  5  1 14  1  8  6 14  7]\n"
     ]
    }
   ],
   "source": [
    "arr=np.random.randint(1,15,(3,4))\n",
    "print(arr.shape)\n",
    "print(arr)\n",
    "arr=arr.reshape(4,3)\n",
    "print(arr.shape)\n",
    "print(arr)\n",
    "arr=arr.reshape(6,2)\n",
    "print(arr.shape)\n",
    "print(arr)\n",
    "print('----'*29)\n",
    "arr=np.random.randint(1,15,(3,4))\n",
    "arr=arr.flatten()\n",
    "print(arr.shape)\n",
    "print(arr)"
   ]
  },
  {
   "cell_type": "code",
   "execution_count": 27,
   "id": "4eab41ac",
   "metadata": {},
   "outputs": [
    {
     "name": "stdout",
     "output_type": "stream",
     "text": [
      "[12  7 10 11  6  5  7  7  9 11] 2795074539024\n",
      "[12  7 10 11  6  5  7  7  9 11] 2795074539024\n"
     ]
    }
   ],
   "source": [
    "arr1=np.random.randint(1,15,10)\n",
    "arr2=np.random.randint(1,15,10)\n",
    "arr2=arr1\n",
    "print(arr1,id(arr1))\n",
    "print(arr2,id(arr2))"
   ]
  },
  {
   "cell_type": "code",
   "execution_count": 28,
   "id": "d4d1260c",
   "metadata": {},
   "outputs": [
    {
     "name": "stdout",
     "output_type": "stream",
     "text": [
      "[12  6  5  2 12 12 12  7  5  9] 2795074858416\n",
      "[12  6  5  2 12 12 12  7  5  9] 2795074858224\n"
     ]
    }
   ],
   "source": [
    "arr1=np.random.randint(1,15,10)\n",
    "arr2=np.copy(arr1)\n",
    "\n",
    "print(arr1, id(arr1))\n",
    "print(arr2, id(arr2))\n"
   ]
  },
  {
   "cell_type": "code",
   "execution_count": 29,
   "id": "496fe72a",
   "metadata": {},
   "outputs": [
    {
     "name": "stdout",
     "output_type": "stream",
     "text": [
      "[[ 2  1 12 13]\n",
      " [ 5  4  5  9]\n",
      " [ 4  9  8 13]]\n",
      "MAX  : 13\n",
      "MIN  : 1\n",
      "SUM  : 85\n"
     ]
    }
   ],
   "source": [
    "arr=np.random.randint(1,15,(3,4))\n",
    "\n",
    "print(arr)\n",
    "print('MAX  :',arr.max())\n",
    "print('MIN  :',arr.min())\n",
    "print('SUM  :',arr.sum())"
   ]
  },
  {
   "cell_type": "markdown",
   "id": "a87d1cc3",
   "metadata": {},
   "source": [
    "For coloumn:\n"
   ]
  },
  {
   "cell_type": "code",
   "execution_count": 30,
   "id": "926c5f9f",
   "metadata": {},
   "outputs": [
    {
     "name": "stdout",
     "output_type": "stream",
     "text": [
      "MAX  : [ 5  9 12 13]\n",
      "MIN  : [2 1 5 9]\n",
      "SUM  : [11 14 25 35]\n"
     ]
    }
   ],
   "source": [
    "print('MAX  :',arr.max(axis=0))\n",
    "print('MIN  :',arr.min(axis=0))\n",
    "print('SUM  :',arr.sum(axis=0))"
   ]
  },
  {
   "cell_type": "markdown",
   "id": "0dee3163",
   "metadata": {},
   "source": [
    "For Rows"
   ]
  },
  {
   "cell_type": "code",
   "execution_count": 31,
   "id": "c2ea6ded",
   "metadata": {},
   "outputs": [
    {
     "name": "stdout",
     "output_type": "stream",
     "text": [
      "MAX  : [13  9 13]\n",
      "MIN  : [1 4 4]\n",
      "SUM  : [28 23 34]\n"
     ]
    }
   ],
   "source": [
    "print('MAX  :',arr.max(axis=1))\n",
    "print('MIN  :',arr.min(axis=1))\n",
    "print('SUM  :',arr.sum(axis=1))"
   ]
  },
  {
   "cell_type": "markdown",
   "id": "d6833f4d",
   "metadata": {},
   "source": [
    "Axis=0 For Rows and Axis=1 for column :"
   ]
  },
  {
   "cell_type": "code",
   "execution_count": 32,
   "id": "6a1b8eba",
   "metadata": {},
   "outputs": [
    {
     "data": {
      "text/plain": [
       "array([[11,  9, 10,  4],\n",
       "       [ 9,  9,  1,  6],\n",
       "       [14,  4, 11, 12]])"
      ]
     },
     "execution_count": 32,
     "metadata": {},
     "output_type": "execute_result"
    }
   ],
   "source": [
    "np.random.seed(3)\n",
    "arr=np.random.randint(1,15,(3,4))\n",
    "arr"
   ]
  },
  {
   "cell_type": "code",
   "execution_count": 43,
   "id": "5a22f529",
   "metadata": {},
   "outputs": [
    {
     "name": "stdout",
     "output_type": "stream",
     "text": [
      "----------------------------------------\n",
      "[[11  9 10  4  9]\n",
      " [ 9  1  6 14  4]\n",
      " [11 12 10 10 11]\n",
      " [ 6  8  7  1  5]]\n",
      "----------------------------------------\n",
      "[[ 6  1  6  1  4]\n",
      " [ 9  8  7  4  5]\n",
      " [11  9 10 10  9]\n",
      " [11 12 10 14 11]]\n",
      "----------------------------------------\n",
      "[[ 4  9  9 10 11]\n",
      " [ 1  4  6  9 14]\n",
      " [10 10 11 11 12]\n",
      " [ 1  5  6  7  8]]\n",
      "----------------------------------------\n",
      "[[ 1  1  4  4  5]\n",
      " [ 6  6  7  8  9]\n",
      " [ 9  9 10 10 10]\n",
      " [11 11 11 12 14]]\n"
     ]
    }
   ],
   "source": [
    "np.random.seed(3)\n",
    "arr=np.random.randint(1,15,(4,5))\n",
    "print('--'*20)\n",
    "print(arr)\n",
    "print('--'*20)\n",
    "print(np.sort(arr,axis=0,kind='mergesort'))\n",
    "print('--'*20)\n",
    "print(np.sort(arr,axis=1))\n",
    "\n",
    "print('--'*20)\n",
    "arr=np.reshape(np.sort(arr.flatten()),arr.shape)\n",
    "print(arr)"
   ]
  },
  {
   "cell_type": "code",
   "execution_count": 46,
   "id": "8b53b550",
   "metadata": {},
   "outputs": [
    {
     "name": "stdout",
     "output_type": "stream",
     "text": [
      "[[11  9 10  4  9]\n",
      " [ 9  1  6 14  4]\n",
      " [11 12 10 10 11]\n",
      " [ 6  8  7  1  5]]\n",
      "------------------------------------------------------------\n",
      "[[12 10 11  5 10]\n",
      " [10  2  7 15  5]\n",
      " [12 13 11 11 12]\n",
      " [ 7  9  8  2  6]]\n"
     ]
    }
   ],
   "source": [
    "np.random.seed(3)\n",
    "arr=np.random.randint(1,15,(4,5))\n",
    "print(arr)\n",
    "print('---'*20)\n",
    "print(arr+1)"
   ]
  },
  {
   "cell_type": "code",
   "execution_count": 52,
   "id": "65448ed2",
   "metadata": {},
   "outputs": [
    {
     "name": "stdout",
     "output_type": "stream",
     "text": [
      "[[11  9 10  4  9]\n",
      " [ 9  1  6 14  4]\n",
      " [11 12 10 10 11]\n",
      " [ 6  8  7  1  5]]\n",
      "------------------------------------------------------------\n",
      "[[10  8  9  3  8]\n",
      " [ 8  0  5 13  3]\n",
      " [10 11  9  9 10]\n",
      " [ 5  7  6  0  4]]\n"
     ]
    }
   ],
   "source": [
    "np.random.seed(3)\n",
    "arr=np.random.randint(1,15,(4,5))\n",
    "print(arr)\n",
    "print('---'*20)\n",
    "print(arr-1)"
   ]
  },
  {
   "cell_type": "code",
   "execution_count": 53,
   "id": "5bddae2e",
   "metadata": {},
   "outputs": [
    {
     "name": "stdout",
     "output_type": "stream",
     "text": [
      "[[11  9 10  4  9]\n",
      " [ 9  1  6 14  4]\n",
      " [11 12 10 10 11]\n",
      " [ 6  8  7  1  5]]\n",
      "------------------------------------------------------------\n",
      "[[220 180 200  80 180]\n",
      " [180  20 120 280  80]\n",
      " [220 240 200 200 220]\n",
      " [120 160 140  20 100]]\n"
     ]
    }
   ],
   "source": [
    "np.random.seed(3)\n",
    "arr=np.random.randint(1,15,(4,5))\n",
    "print(arr)\n",
    "print('---'*20)\n",
    "print(arr*20)"
   ]
  },
  {
   "cell_type": "code",
   "execution_count": 54,
   "id": "a7936494",
   "metadata": {},
   "outputs": [
    {
     "name": "stdout",
     "output_type": "stream",
     "text": [
      "[[11  9 10  4  9]\n",
      " [ 9  1  6 14  4]\n",
      " [11 12 10 10 11]\n",
      " [ 6  8  7  1  5]]\n",
      "------------------------------------------------------------\n",
      "[[5.5 4.5 5.  2.  4.5]\n",
      " [4.5 0.5 3.  7.  2. ]\n",
      " [5.5 6.  5.  5.  5.5]\n",
      " [3.  4.  3.5 0.5 2.5]]\n"
     ]
    }
   ],
   "source": [
    "np.random.seed(3)\n",
    "arr=np.random.randint(1,15,(4,5))\n",
    "print(arr)\n",
    "print('---'*20)\n",
    "print(arr/2)"
   ]
  },
  {
   "cell_type": "code",
   "execution_count": 55,
   "id": "8373dac8",
   "metadata": {},
   "outputs": [
    {
     "name": "stdout",
     "output_type": "stream",
     "text": [
      "[[11  9 10  4  9]\n",
      " [ 9  1  6 14  4]\n",
      " [11 12 10 10 11]\n",
      " [ 6  8  7  1  5]]\n",
      "------------------------------------------------------------\n",
      "[[5 4 5 2 4]\n",
      " [4 0 3 7 2]\n",
      " [5 6 5 5 5]\n",
      " [3 4 3 0 2]]\n"
     ]
    }
   ],
   "source": [
    "np.random.seed(3)\n",
    "arr=np.random.randint(1,15,(4,5))\n",
    "print(arr)\n",
    "print('---'*20)\n",
    "print(arr//2)"
   ]
  },
  {
   "cell_type": "code",
   "execution_count": 64,
   "id": "a6d11cb9",
   "metadata": {},
   "outputs": [],
   "source": [
    "arr1=np.random.randint(1,15,(4,4))\n",
    "arr2=np.random.randint(1,15,(4,4))"
   ]
  },
  {
   "cell_type": "code",
   "execution_count": 65,
   "id": "c47d7594",
   "metadata": {},
   "outputs": [
    {
     "data": {
      "text/plain": [
       "array([[ 2,  6,  6,  8],\n",
       "       [11, 12, 13,  5],\n",
       "       [ 4, 12,  1,  1],\n",
       "       [ 1,  1,  3,  3]])"
      ]
     },
     "execution_count": 65,
     "metadata": {},
     "output_type": "execute_result"
    }
   ],
   "source": [
    "arr1"
   ]
  },
  {
   "cell_type": "code",
   "execution_count": 66,
   "id": "201636c7",
   "metadata": {},
   "outputs": [
    {
     "data": {
      "text/plain": [
       "array([[12,  8,  1, 14],\n",
       "       [ 6,  1, 14,  2],\n",
       "       [ 5,  2, 13,  3],\n",
       "       [ 3, 13,  5, 11]])"
      ]
     },
     "execution_count": 66,
     "metadata": {},
     "output_type": "execute_result"
    }
   ],
   "source": [
    "arr2"
   ]
  },
  {
   "cell_type": "code",
   "execution_count": 70,
   "id": "a4e33ddf",
   "metadata": {},
   "outputs": [
    {
     "name": "stdout",
     "output_type": "stream",
     "text": [
      "[[114 138 204 146]\n",
      " [284 191 373 272]\n",
      " [128  59 190  94]\n",
      " [ 42  54  69  58]]\n",
      "--------------------------------------------------------------------------------\n",
      "[[ 12996  19044  41616  21316]\n",
      " [ 80656  36481 139129  73984]\n",
      " [ 16384   3481  36100   8836]\n",
      " [  1764   2916   4761   3364]]\n"
     ]
    }
   ],
   "source": [
    "ARR1=arr1.dot(arr2)\n",
    "print(ARR1)\n",
    "print('----'*20)\n",
    "ARR2=ARR1**2\n",
    "print(ARR2)"
   ]
  },
  {
   "cell_type": "code",
   "execution_count": 79,
   "id": "b261dc6c",
   "metadata": {},
   "outputs": [
    {
     "name": "stdout",
     "output_type": "stream",
     "text": [
      "[ 12996  19044  41616  21316  80656  36481 139129  73984  16384   3481\n",
      "  36100   8836   1764   2916   4761   3364]\n",
      "--------------------------------------------------------------------------------\n",
      "31426.75\n",
      "--------------------------------------------------------------------------------\n",
      "36477.5479670372\n",
      "--------------------------------------------------------------------------------\n",
      "1330611505.6875\n"
     ]
    }
   ],
   "source": [
    "np.random.seed()\n",
    "ARR3=ARR2.flatten()\n",
    "print(ARR3)\n",
    "print('----'*20)\n",
    "print(ARR3.mean())\n",
    "print('----'*20)\n",
    "print(ARR3.std())\n",
    "print('----'*20)\n",
    "print((ARR3.var()))"
   ]
  },
  {
   "cell_type": "code",
   "execution_count": 83,
   "id": "efe9de92",
   "metadata": {},
   "outputs": [
    {
     "name": "stdout",
     "output_type": "stream",
     "text": [
      "[ 1  2  3  4  5  6  7  8  9 10 11 12 13 14 15 16 17 18]\n",
      "[ True  True  True  True False False False False False False False False\n",
      " False False False False False False]\n",
      "[1 2 3 4 5 6 7]\n",
      "[ 6  7  8  9 10 11 12 13 14 15 16 17 18]\n"
     ]
    }
   ],
   "source": [
    "arr=np.arange(1,19)\n",
    "print(arr)\n",
    "print(arr<5)\n",
    "print(arr[arr<8])\n",
    "print(arr[arr>5])"
   ]
  },
  {
   "cell_type": "code",
   "execution_count": 85,
   "id": "d01bcba9",
   "metadata": {},
   "outputs": [
    {
     "data": {
      "text/plain": [
       "array([ 0,  0,  0,  0,  0,  0,  0,  8,  9, 10, 11, 12, 13, 14, 15, 16, 17,\n",
       "       18])"
      ]
     },
     "execution_count": 85,
     "metadata": {},
     "output_type": "execute_result"
    }
   ],
   "source": [
    "arr[arr<8]=0\n",
    "arr"
   ]
  },
  {
   "cell_type": "code",
   "execution_count": 90,
   "id": "4c8a4a14",
   "metadata": {},
   "outputs": [
    {
     "name": "stdout",
     "output_type": "stream",
     "text": [
      "[[19  8 16  5 11]\n",
      " [ 7  5  3  8 10]\n",
      " [ 4 11 16  8  4]]\n",
      "--------------------------------------------------------------------------------\n",
      "[[19  7  4]\n",
      " [ 8  5 11]\n",
      " [16  3 16]\n",
      " [ 5  8  8]\n",
      " [11 10  4]]\n"
     ]
    }
   ],
   "source": [
    "arr=np.random.randint(1,20,(3,5))\n",
    "print(arr)\n",
    "print('----'*20)\n",
    "print(arr.T)\n",
    "\n",
    "\n",
    "\n"
   ]
  },
  {
   "cell_type": "code",
   "execution_count": 98,
   "id": "0dddcd41",
   "metadata": {},
   "outputs": [
    {
     "name": "stdout",
     "output_type": "stream",
     "text": [
      "[[92 16 84 23 17]\n",
      " [14 28 68 53 76]]\n",
      "[[5 9 1 9 5]\n",
      " [7 9 6 1 6]]\n",
      "------------------------------------------------------------\n",
      "[[92 16 84 23 17]\n",
      " [14 28 68 53 76]\n",
      " [ 5  9  1  9  5]\n",
      " [ 7  9  6  1  6]]\n",
      "------------------------------------------------------------\n",
      "[[92 16 84 23 17  5  9  1  9  5]\n",
      " [14 28 68 53 76  7  9  6  1  6]]\n"
     ]
    }
   ],
   "source": [
    "arr1=np.random.randint(10,100,(2,5))\n",
    "arr2=np.random.randint(1,10,(2,5))\n",
    "print(arr1)\n",
    "print(arr2)\n",
    "print('---'*20)\n",
    "print(np.concatenate((arr1,arr2),axis=0))\n",
    "print('---'*20)\n",
    "print(np.concatenate((arr1,arr2),axis=1))"
   ]
  },
  {
   "cell_type": "code",
   "execution_count": 99,
   "id": "f6a8bd37",
   "metadata": {},
   "outputs": [
    {
     "name": "stdout",
     "output_type": "stream",
     "text": [
      "[[15 13 98 71 16]\n",
      " [39 70 46 76 54]]\n",
      "------------------------------------------------------------\n",
      "[[2 2 2 6 4]\n",
      " [1 1 6 5 4]]\n",
      "------------------------------------------------------------\n",
      "[[15 13 98 71 16  2  2  2  6  4]\n",
      " [39 70 46 76 54  1  1  6  5  4]]\n"
     ]
    }
   ],
   "source": [
    "arr1=np.random.randint(10,100,(2,5))\n",
    "arr2=np.random.randint(1,10,(2,5))\n",
    "print(arr1)\n",
    "print('---'*20)\n",
    "print(arr2)\n",
    "print('---'*20)\n",
    "print(np.hstack((arr1,arr2)))"
   ]
  },
  {
   "cell_type": "code",
   "execution_count": 100,
   "id": "c376029b",
   "metadata": {},
   "outputs": [
    {
     "name": "stdout",
     "output_type": "stream",
     "text": [
      "[[28 69 61 43 99]\n",
      " [90 50 90 36 85]]\n",
      "------------------------------------------------------------\n",
      "[[7 7 9 5 6]\n",
      " [3 9 7 9 7]]\n",
      "------------------------------------------------------------\n",
      "[[28 69 61 43 99]\n",
      " [90 50 90 36 85]\n",
      " [ 7  7  9  5  6]\n",
      " [ 3  9  7  9  7]]\n"
     ]
    }
   ],
   "source": [
    "arr1=np.random.randint(10,100,(2,5))\n",
    "arr2=np.random.randint(1,10,(2,5))\n",
    "print(arr1)\n",
    "print('---'*20)\n",
    "print(arr2)\n",
    "print('---'*20)\n",
    "print(np.vstack((arr1,arr2)))"
   ]
  },
  {
   "cell_type": "code",
   "execution_count": 110,
   "id": "2c6203cd",
   "metadata": {},
   "outputs": [
    {
     "data": {
      "text/plain": [
       "[array([[45, 90, 40, 51, 47],\n",
       "        [45, 73, 68, 97, 78]]),\n",
       " array([[74, 78, 20, 45, 94],\n",
       "        [54, 43, 34, 65, 36]])]"
      ]
     },
     "execution_count": 110,
     "metadata": {},
     "output_type": "execute_result"
    }
   ],
   "source": [
    "arr=np.random.randint(10,100,(4,5))\n",
    "arr\n",
    "np.vsplit(arr,2)"
   ]
  },
  {
   "cell_type": "code",
   "execution_count": 112,
   "id": "eae50a18",
   "metadata": {},
   "outputs": [
    {
     "data": {
      "text/plain": [
       "[array([[35, 62],\n",
       "        [98, 40],\n",
       "        [22, 43],\n",
       "        [85, 39],\n",
       "        [93, 93]]),\n",
       " array([[37, 61],\n",
       "        [51, 65],\n",
       "        [38, 53],\n",
       "        [45, 74],\n",
       "        [32, 63]])]"
      ]
     },
     "execution_count": 112,
     "metadata": {},
     "output_type": "execute_result"
    }
   ],
   "source": [
    "arr=np.random.randint(10,100,(5,4))\n",
    "arr\n",
    "np.hsplit(arr,2)"
   ]
  },
  {
   "cell_type": "markdown",
   "id": "eadd0471",
   "metadata": {},
   "source": [
    "![](IMG_20190321_171139~3)"
   ]
  },
  {
   "cell_type": "markdown",
   "id": "f3d2277a",
   "metadata": {},
   "source": [
    "![](IMG_20190321_171139~3) \n",
    "\n"
   ]
  },
  {
   "cell_type": "code",
   "execution_count": 119,
   "id": "491a751d",
   "metadata": {},
   "outputs": [
    {
     "data": {
      "text/plain": [
       "(1593, 1239, 3)"
      ]
     },
     "execution_count": 119,
     "metadata": {},
     "output_type": "execute_result"
    }
   ],
   "source": [
    "from matplotlib.image import imread\n",
    "image=imread('IMG20230111145307.jpg')\n",
    "image.shape"
   ]
  },
  {
   "cell_type": "code",
   "execution_count": 122,
   "id": "4425342c",
   "metadata": {},
   "outputs": [
    {
     "data": {
      "text/plain": [
       "array([[[ 56,  51,  57],\n",
       "        [ 59,  54,  60],\n",
       "        [ 81,  76,  80],\n",
       "        ...,\n",
       "        [ 83,  74,  65],\n",
       "        [ 75,  68,  58],\n",
       "        [ 69,  62,  52]],\n",
       "\n",
       "       [[ 59,  54,  60],\n",
       "        [ 62,  57,  63],\n",
       "        [ 83,  78,  82],\n",
       "        ...,\n",
       "        [ 82,  73,  64],\n",
       "        [ 74,  67,  57],\n",
       "        [ 69,  62,  52]],\n",
       "\n",
       "       [[ 61,  56,  62],\n",
       "        [ 63,  58,  64],\n",
       "        [ 84,  79,  83],\n",
       "        ...,\n",
       "        [ 81,  72,  63],\n",
       "        [ 74,  67,  57],\n",
       "        [ 69,  62,  52]],\n",
       "\n",
       "       ...,\n",
       "\n",
       "       [[212, 222, 198],\n",
       "        [210, 218, 194],\n",
       "        [208, 212, 185],\n",
       "        ...,\n",
       "        [ 47,  46,  44],\n",
       "        [ 47,  46,  44],\n",
       "        [ 47,  46,  44]],\n",
       "\n",
       "       [[213, 223, 199],\n",
       "        [211, 219, 195],\n",
       "        [209, 213, 186],\n",
       "        ...,\n",
       "        [ 47,  46,  44],\n",
       "        [ 47,  46,  44],\n",
       "        [ 45,  44,  42]],\n",
       "\n",
       "       [[207, 217, 193],\n",
       "        [204, 212, 188],\n",
       "        [209, 213, 186],\n",
       "        ...,\n",
       "        [ 46,  45,  43],\n",
       "        [ 43,  42,  40],\n",
       "        [ 40,  39,  37]]], dtype=uint8)"
      ]
     },
     "execution_count": 122,
     "metadata": {},
     "output_type": "execute_result"
    }
   ],
   "source": [
    "image"
   ]
  },
  {
   "cell_type": "code",
   "execution_count": 123,
   "id": "5761538d",
   "metadata": {},
   "outputs": [
    {
     "data": {
      "text/plain": [
       "255"
      ]
     },
     "execution_count": 123,
     "metadata": {},
     "output_type": "execute_result"
    }
   ],
   "source": [
    "np.max(image)"
   ]
  },
  {
   "cell_type": "code",
   "execution_count": 125,
   "id": "ef94b358",
   "metadata": {},
   "outputs": [
    {
     "data": {
      "text/plain": [
       "0"
      ]
     },
     "execution_count": 125,
     "metadata": {},
     "output_type": "execute_result"
    }
   ],
   "source": [
    "np.min(image)"
   ]
  },
  {
   "cell_type": "code",
   "execution_count": null,
   "id": "9698fe71",
   "metadata": {},
   "outputs": [],
   "source": []
  }
 ],
 "metadata": {
  "kernelspec": {
   "display_name": "Python 3",
   "language": "python",
   "name": "python3"
  },
  "language_info": {
   "codemirror_mode": {
    "name": "ipython",
    "version": 3
   },
   "file_extension": ".py",
   "mimetype": "text/x-python",
   "name": "python",
   "nbconvert_exporter": "python",
   "pygments_lexer": "ipython3",
   "version": "3.8.8"
  }
 },
 "nbformat": 4,
 "nbformat_minor": 5
}
